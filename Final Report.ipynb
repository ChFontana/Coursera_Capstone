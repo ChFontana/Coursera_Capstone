{
    "cells": [
        {
            "cell_type": "markdown",
            "metadata": {},
            "source": "# Final Report by Christian Fontana"
        },
        {
            "cell_type": "markdown",
            "metadata": {
                "collapsed": true
            },
            "source": "## Introduction where you discuss the business problem and who would be interested in this project."
        },
        {
            "cell_type": "markdown",
            "metadata": {},
            "source": "When you want to start a new business, life a coffee store, a bar or a restaurant you need important information about the location where you gonna place it. You wanna know if the place if the optimal for get sucess on your business, if you kind of project is the optimal for the neighboor's clients,etc. In my final project I will provide to the stakeholders core information about the city where i live, Buenos Aires."
        },
        {
            "cell_type": "markdown",
            "metadata": {},
            "source": "## Data where you describe the data that will be used to solve the problem and the source of the data.\n"
        },
        {
            "cell_type": "markdown",
            "metadata": {},
            "source": "Solving this puzzle I will give the stakeholders important information for decide where to place to local. This will be the population and the average income per family by communes. I think this will give a very good report to the future owners and help them to make a better decission. I will use the buenos aires goverment page for get the information about the income and the population of the communes meanwhile I will get the information about the most importants venues from Foursquare."
        },
        {
            "cell_type": "markdown",
            "metadata": {},
            "source": "## Methodology section which represents the main component of the report where you discuss and describe any exploratory data analysis that you did, any inferential statistical testing that you performed, if any, and what machine learnings were used and why.\n"
        },
        {
            "cell_type": "markdown",
            "metadata": {},
            "source": "I decided to take the city of Buenos Aires as a whole as communes since I believed that this would provide a more accurate analysis."
        },
        {
            "cell_type": "markdown",
            "metadata": {},
            "source": "## Results section where you discuss the results.\n"
        },
        {
            "cell_type": "markdown",
            "metadata": {},
            "source": "From the analysis you can see the income and population by communes. "
        },
        {
            "cell_type": "markdown",
            "metadata": {},
            "source": "## Discussion section where you discuss any observations you noted and any recommendations you can make based on the results."
        },
        {
            "cell_type": "markdown",
            "metadata": {},
            "source": "The most populated communes usually have less average income. The stakeholder must analyze whether their product is more for mass consumption, choosing a more populated commune, or if it is more for a client of a higher economic level, taking into account that the population in these communes will be smaller."
        },
        {
            "cell_type": "markdown",
            "metadata": {},
            "source": "## Conclusion section where you conclude the report."
        },
        {
            "cell_type": "markdown",
            "metadata": {},
            "source": "When analyzing where to open our new store, it is very important to take into account the number of people who live nearby and their average income level.\n\nThis will not be the single analysis that stakeholders will have to do when opening the store, but it provides important tools allowing them to make a better move when they are looking up the customers of that product."
        }
    ],
    "metadata": {
        "kernelspec": {
            "display_name": "Python 3.6",
            "language": "python",
            "name": "python3"
        },
        "language_info": {
            "codemirror_mode": {
                "name": "ipython",
                "version": 3
            },
            "file_extension": ".py",
            "mimetype": "text/x-python",
            "name": "python",
            "nbconvert_exporter": "python",
            "pygments_lexer": "ipython3",
            "version": "3.6.9"
        }
    },
    "nbformat": 4,
    "nbformat_minor": 1
}