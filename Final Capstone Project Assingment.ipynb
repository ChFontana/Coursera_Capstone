{
    "cells": [
        {
            "cell_type": "code",
            "execution_count": 1,
            "metadata": {},
            "outputs": [
                {
                    "name": "stdout",
                    "output_type": "stream",
                    "text": "Solving environment: done\n\n## Package Plan ##\n\n  environment location: /opt/conda/envs/Python36\n\n  added / updated specs: \n    - geopy\n\n\nThe following packages will be downloaded:\n\n    package                    |            build\n    ---------------------------|-----------------\n    python_abi-3.6             |          1_cp36m           4 KB  conda-forge\n    openssl-1.1.1g             |       h516909a_0         2.1 MB  conda-forge\n    certifi-2020.6.20          |   py36h9f0ad1d_0         151 KB  conda-forge\n    geopy-1.22.0               |     pyh9f0ad1d_0          63 KB  conda-forge\n    ca-certificates-2020.6.20  |       hecda079_0         145 KB  conda-forge\n    geographiclib-1.50         |             py_0          34 KB  conda-forge\n    ------------------------------------------------------------\n                                           Total:         2.5 MB\n\nThe following NEW packages will be INSTALLED:\n\n    geographiclib:   1.50-py_0           conda-forge\n    geopy:           1.22.0-pyh9f0ad1d_0 conda-forge\n    python_abi:      3.6-1_cp36m         conda-forge\n\nThe following packages will be UPDATED:\n\n    ca-certificates: 2020.1.1-0                      --> 2020.6.20-hecda079_0     conda-forge\n    certifi:         2020.4.5.1-py36_0               --> 2020.6.20-py36h9f0ad1d_0 conda-forge\n    openssl:         1.1.1g-h7b6447c_0               --> 1.1.1g-h516909a_0        conda-forge\n\n\nDownloading and Extracting Packages\npython_abi-3.6       | 4 KB      | ##################################### | 100% \nopenssl-1.1.1g       | 2.1 MB    | ##################################### | 100% \ncertifi-2020.6.20    | 151 KB    | ##################################### | 100% \ngeopy-1.22.0         | 63 KB     | ##################################### | 100% \nca-certificates-2020 | 145 KB    | ##################################### | 100% \ngeographiclib-1.50   | 34 KB     | ##################################### | 100% \nPreparing transaction: done\nVerifying transaction: done\nExecuting transaction: done\nSolving environment: done\n\n## Package Plan ##\n\n  environment location: /opt/conda/envs/Python36\n\n  added / updated specs: \n    - folium=0.5.0\n\n\nThe following packages will be downloaded:\n\n    package                    |            build\n    ---------------------------|-----------------\n    branca-0.4.1               |             py_0          26 KB  conda-forge\n    folium-0.5.0               |             py_0          45 KB  conda-forge\n    vincent-0.4.4              |             py_1          28 KB  conda-forge\n    altair-4.1.0               |             py_1         614 KB  conda-forge\n    ------------------------------------------------------------\n                                           Total:         713 KB\n\nThe following NEW packages will be INSTALLED:\n\n    altair:  4.1.0-py_1 conda-forge\n    branca:  0.4.1-py_0 conda-forge\n    folium:  0.5.0-py_0 conda-forge\n    vincent: 0.4.4-py_1 conda-forge\n\n\nDownloading and Extracting Packages\nbranca-0.4.1         | 26 KB     | ##################################### | 100% \nfolium-0.5.0         | 45 KB     | ##################################### | 100% \nvincent-0.4.4        | 28 KB     | ##################################### | 100% \naltair-4.1.0         | 614 KB    | ##################################### | 100% \nPreparing transaction: done\nVerifying transaction: done\nExecuting transaction: done\nLibraries imported.\n"
                }
            ],
            "source": "import numpy as np # library to handle data in a vectorized manner\n\nimport pandas as pd # library for data analsysis\npd.set_option('display.max_columns', None)\npd.set_option('display.max_rows', None)\n\nimport json # library to handle JSON files\n\n!conda install -c conda-forge geopy --yes\nfrom geopy.geocoders import Nominatim # convert an address into latitude and longitude values\n<\nimport requests # library to handle requests\nfrom pandas.io.json import json_normalize # tranform JSON file into a pandas dataframe\n\n# Matplotlib and associated plotting modules\nimport matplotlib.cm as cm\nimport matplotlib.colors as colors\n\n# import k-means from clustering stage\nfrom sklearn.cluster import KMeans\n\n!conda install -c conda-forge folium=0.5.0 --yes\nimport folium # map rendering library\n\nprint('Libraries imported.')"
        },
        {
            "cell_type": "markdown",
            "metadata": {},
            "source": "https://data.buenosaires.gob.ar/dataset/comunas\n\n\nhttps://www.estadisticaciudad.gob.ar/eyc/wp-content/uploads/2018/05/MT_eah_2417.xlsx\n    \nhttps://www.estadisticaciudad.gob.ar/eyc/?p=82456"
        },
        {
            "cell_type": "code",
            "execution_count": 21,
            "metadata": {},
            "outputs": [
                {
                    "name": "stdout",
                    "output_type": "stream",
                    "text": "Data loaded\n"
                }
            ],
            "source": "# Buenos Aires Open Data Catalogue - Neighbourhood Profiles 2016 (CSV)\n# https://data.buenosaires.gob.ar/dataset/comunas\n\nipcf_df = pd.read_excel(r'https://www.estadisticaciudad.gob.ar/eyc/wp-content/uploads/2018/05/MT_eah_2417.xlsx', sheet_name='2019')\nprint('Data loaded')\n\n"
        },
        {
            "cell_type": "code",
            "execution_count": 22,
            "metadata": {},
            "outputs": [
                {
                    "data": {
                        "text/html": "<div>\n<style scoped>\n    .dataframe tbody tr th:only-of-type {\n        vertical-align: middle;\n    }\n\n    .dataframe tbody tr th {\n        vertical-align: top;\n    }\n\n    .dataframe thead th {\n        text-align: right;\n    }\n</style>\n<table border=\"1\" class=\"dataframe\">\n  <thead>\n    <tr style=\"text-align: right;\">\n      <th></th>\n      <th>comunas</th>\n      <th>IPCF</th>\n    </tr>\n  </thead>\n  <tbody>\n    <tr>\n      <th>2</th>\n      <td>1</td>\n      <td>35606</td>\n    </tr>\n    <tr>\n      <th>3</th>\n      <td>2</td>\n      <td>48847</td>\n    </tr>\n    <tr>\n      <th>4</th>\n      <td>3</td>\n      <td>28074</td>\n    </tr>\n    <tr>\n      <th>5</th>\n      <td>4</td>\n      <td>21631</td>\n    </tr>\n    <tr>\n      <th>6</th>\n      <td>5</td>\n      <td>33454</td>\n    </tr>\n    <tr>\n      <th>7</th>\n      <td>6</td>\n      <td>39050</td>\n    </tr>\n    <tr>\n      <th>8</th>\n      <td>7</td>\n      <td>27210</td>\n    </tr>\n    <tr>\n      <th>9</th>\n      <td>8</td>\n      <td>15187</td>\n    </tr>\n    <tr>\n      <th>10</th>\n      <td>9</td>\n      <td>23131</td>\n    </tr>\n    <tr>\n      <th>11</th>\n      <td>10</td>\n      <td>27730</td>\n    </tr>\n    <tr>\n      <th>12</th>\n      <td>11</td>\n      <td>29353</td>\n    </tr>\n    <tr>\n      <th>13</th>\n      <td>12</td>\n      <td>36619</td>\n    </tr>\n    <tr>\n      <th>14</th>\n      <td>13</td>\n      <td>42423</td>\n    </tr>\n    <tr>\n      <th>15</th>\n      <td>14</td>\n      <td>54481</td>\n    </tr>\n    <tr>\n      <th>16</th>\n      <td>15</td>\n      <td>35033</td>\n    </tr>\n  </tbody>\n</table>\n</div>",
                        "text/plain": "   comunas   IPCF\n2        1  35606\n3        2  48847\n4        3  28074\n5        4  21631\n6        5  33454\n7        6  39050\n8        7  27210\n9        8  15187\n10       9  23131\n11      10  27730\n12      11  29353\n13      12  36619\n14      13  42423\n15      14  54481\n16      15  35033"
                    },
                    "execution_count": 22,
                    "metadata": {},
                    "output_type": "execute_result"
                }
            ],
            "source": "ipcf_df.rename(columns={'Promedio del ingreso per c\u00e1pita familiar (IPCF) de los hogares seg\u00fan comuna. Ciudad de Buenos Aires. A\u00f1o 2019':'comunas'},inplace=True)\nipcf_df.rename(columns={'Unnamed: 1':'IPCF'},inplace=True)\nipcf_df.drop([0,1,17,18,19],axis=0,inplace=True)\nipcf_df.head(20)"
        },
        {
            "cell_type": "markdown",
            "metadata": {},
            "source": "A full report consisting of all of the following components (15 marks):\nIntroduction where you discuss the business problem and who would be interested in this project.\nData where you describe the data that will be used to solve the problem and the source of the data.\nMethodology section which represents the main component of the report where you discuss and describe any exploratory data analysis that you did, any inferential statistical testing that you performed, if any, and what machine learnings were used and why.\nResults section where you discuss the results.\nDiscussion section where you discuss any observations you noted and any recommendations you can make based on the results.\nConclusion section where you conclude the report."
        },
        {
            "cell_type": "code",
            "execution_count": 23,
            "metadata": {},
            "outputs": [
                {
                    "name": "stdout",
                    "output_type": "stream",
                    "text": "Data loaded\n"
                },
                {
                    "data": {
                        "text/html": "<div>\n<style scoped>\n    .dataframe tbody tr th:only-of-type {\n        vertical-align: middle;\n    }\n\n    .dataframe tbody tr th {\n        vertical-align: top;\n    }\n\n    .dataframe thead th {\n        text-align: right;\n    }\n</style>\n<table border=\"1\" class=\"dataframe\">\n  <thead>\n    <tr style=\"text-align: right;\">\n      <th></th>\n      <th>wkt</th>\n      <th>barrios</th>\n      <th>perimetro</th>\n      <th>area</th>\n      <th>comunas</th>\n      <th>id</th>\n      <th>objeto</th>\n    </tr>\n  </thead>\n  <tbody>\n    <tr>\n      <th>0</th>\n      <td>MULTIPOLYGON (((-58.3800038855693 -34.57002352...</td>\n      <td>RECOLETA</td>\n      <td>21452.838648</td>\n      <td>6.317265e+06</td>\n      <td>2</td>\n      <td>1</td>\n      <td>LIMITE COMUNAL</td>\n    </tr>\n    <tr>\n      <th>1</th>\n      <td>MULTIPOLYGON (((-58.4128700313089 -34.61411625...</td>\n      <td>ALMAGRO - BOEDO</td>\n      <td>12323.432479</td>\n      <td>6.660603e+06</td>\n      <td>5</td>\n      <td>2</td>\n      <td>LIMITE COMUNAL</td>\n    </tr>\n    <tr>\n      <th>2</th>\n      <td>MULTIPOLYGON (((-58.4306058283309 -34.60704708...</td>\n      <td>CABALLITO</td>\n      <td>10990.964471</td>\n      <td>6.851029e+06</td>\n      <td>6</td>\n      <td>3</td>\n      <td>LIMITE COMUNAL</td>\n    </tr>\n    <tr>\n      <th>3</th>\n      <td>MULTIPOLYGON (((-58.4519952454565 -34.62974544...</td>\n      <td>FLORES - PARQUE CHACABUCO</td>\n      <td>17972.257870</td>\n      <td>1.242290e+07</td>\n      <td>7</td>\n      <td>4</td>\n      <td>LIMITE COMUNAL</td>\n    </tr>\n    <tr>\n      <th>4</th>\n      <td>MULTIPOLYGON (((-58.5192540532325 -34.63301009...</td>\n      <td>LINIERS - MATADEROS - PARQUE AVELLANEDA</td>\n      <td>21411.738344</td>\n      <td>1.650531e+07</td>\n      <td>9</td>\n      <td>5</td>\n      <td>LIMITE COMUNAL</td>\n    </tr>\n    <tr>\n      <th>5</th>\n      <td>MULTIPOLYGON (((-58.4883373673246 -34.62016035...</td>\n      <td>FLORESTA - MONTE CASTRO - VELEZ SARSFIELD - VE...</td>\n      <td>18332.037457</td>\n      <td>1.265656e+07</td>\n      <td>10</td>\n      <td>6</td>\n      <td>LIMITE COMUNAL</td>\n    </tr>\n    <tr>\n      <th>6</th>\n      <td>MULTIPOLYGON (((-58.4983848398831 -34.59636765...</td>\n      <td>VILLA DEL PARQUE - VILLA  DEVOTO - VILLA GRAL....</td>\n      <td>19987.696155</td>\n      <td>1.412004e+07</td>\n      <td>11</td>\n      <td>7</td>\n      <td>LIMITE COMUNAL</td>\n    </tr>\n    <tr>\n      <th>7</th>\n      <td>MULTIPOLYGON (((-58.5033113250844 -34.59385615...</td>\n      <td>COGHLAN - SAAVEDRA - VILLA PUEYRREDON - VILLA ...</td>\n      <td>17232.189372</td>\n      <td>1.557093e+07</td>\n      <td>12</td>\n      <td>8</td>\n      <td>LIMITE COMUNAL</td>\n    </tr>\n    <tr>\n      <th>8</th>\n      <td>MULTIPOLYGON (((-58.4267593172764 -34.55202337...</td>\n      <td>PALERMO</td>\n      <td>22126.531858</td>\n      <td>1.584587e+07</td>\n      <td>14</td>\n      <td>9</td>\n      <td>LIMITE COMUNAL</td>\n    </tr>\n    <tr>\n      <th>9</th>\n      <td>MULTIPOLYGON (((-58.4119188098038 -34.59800307...</td>\n      <td>BALVANERA - SAN CRISTOBAL</td>\n      <td>10486.260809</td>\n      <td>6.385991e+06</td>\n      <td>3</td>\n      <td>10</td>\n      <td>LIMITE COMUNAL</td>\n    </tr>\n  </tbody>\n</table>\n</div>",
                        "text/plain": "                                                 wkt  \\\n0  MULTIPOLYGON (((-58.3800038855693 -34.57002352...   \n1  MULTIPOLYGON (((-58.4128700313089 -34.61411625...   \n2  MULTIPOLYGON (((-58.4306058283309 -34.60704708...   \n3  MULTIPOLYGON (((-58.4519952454565 -34.62974544...   \n4  MULTIPOLYGON (((-58.5192540532325 -34.63301009...   \n5  MULTIPOLYGON (((-58.4883373673246 -34.62016035...   \n6  MULTIPOLYGON (((-58.4983848398831 -34.59636765...   \n7  MULTIPOLYGON (((-58.5033113250844 -34.59385615...   \n8  MULTIPOLYGON (((-58.4267593172764 -34.55202337...   \n9  MULTIPOLYGON (((-58.4119188098038 -34.59800307...   \n\n                                             barrios     perimetro  \\\n0                                           RECOLETA  21452.838648   \n1                                    ALMAGRO - BOEDO  12323.432479   \n2                                          CABALLITO  10990.964471   \n3                          FLORES - PARQUE CHACABUCO  17972.257870   \n4            LINIERS - MATADEROS - PARQUE AVELLANEDA  21411.738344   \n5  FLORESTA - MONTE CASTRO - VELEZ SARSFIELD - VE...  18332.037457   \n6  VILLA DEL PARQUE - VILLA  DEVOTO - VILLA GRAL....  19987.696155   \n7  COGHLAN - SAAVEDRA - VILLA PUEYRREDON - VILLA ...  17232.189372   \n8                                            PALERMO  22126.531858   \n9                          BALVANERA - SAN CRISTOBAL  10486.260809   \n\n           area  comunas  id          objeto  \n0  6.317265e+06        2   1  LIMITE COMUNAL  \n1  6.660603e+06        5   2  LIMITE COMUNAL  \n2  6.851029e+06        6   3  LIMITE COMUNAL  \n3  1.242290e+07        7   4  LIMITE COMUNAL  \n4  1.650531e+07        9   5  LIMITE COMUNAL  \n5  1.265656e+07       10   6  LIMITE COMUNAL  \n6  1.412004e+07       11   7  LIMITE COMUNAL  \n7  1.557093e+07       12   8  LIMITE COMUNAL  \n8  1.584587e+07       14   9  LIMITE COMUNAL  \n9  6.385991e+06        3  10  LIMITE COMUNAL  "
                    },
                    "execution_count": 23,
                    "metadata": {},
                    "output_type": "execute_result"
                }
            ],
            "source": "comunas_df = pd.read_csv(r'http://cdn.buenosaires.gob.ar/datosabiertos/datasets/comunas/comunas.csv')\nprint('Data loaded')\n\ncomunas_df.head(10)"
        },
        {
            "cell_type": "code",
            "execution_count": 24,
            "metadata": {},
            "outputs": [
                {
                    "data": {
                        "text/html": "<div>\n<style scoped>\n    .dataframe tbody tr th:only-of-type {\n        vertical-align: middle;\n    }\n\n    .dataframe tbody tr th {\n        vertical-align: top;\n    }\n\n    .dataframe thead th {\n        text-align: right;\n    }\n</style>\n<table border=\"1\" class=\"dataframe\">\n  <thead>\n    <tr style=\"text-align: right;\">\n      <th></th>\n      <th>barrios</th>\n      <th>comunas</th>\n      <th>id</th>\n    </tr>\n  </thead>\n  <tbody>\n    <tr>\n      <th>0</th>\n      <td>RECOLETA</td>\n      <td>2</td>\n      <td>1</td>\n    </tr>\n    <tr>\n      <th>1</th>\n      <td>ALMAGRO - BOEDO</td>\n      <td>5</td>\n      <td>2</td>\n    </tr>\n    <tr>\n      <th>2</th>\n      <td>CABALLITO</td>\n      <td>6</td>\n      <td>3</td>\n    </tr>\n    <tr>\n      <th>3</th>\n      <td>FLORES - PARQUE CHACABUCO</td>\n      <td>7</td>\n      <td>4</td>\n    </tr>\n    <tr>\n      <th>4</th>\n      <td>LINIERS - MATADEROS - PARQUE AVELLANEDA</td>\n      <td>9</td>\n      <td>5</td>\n    </tr>\n  </tbody>\n</table>\n</div>",
                        "text/plain": "                                   barrios  comunas  id\n0                                 RECOLETA        2   1\n1                          ALMAGRO - BOEDO        5   2\n2                                CABALLITO        6   3\n3                FLORES - PARQUE CHACABUCO        7   4\n4  LINIERS - MATADEROS - PARQUE AVELLANEDA        9   5"
                    },
                    "execution_count": 24,
                    "metadata": {},
                    "output_type": "execute_result"
                }
            ],
            "source": "comunas_df.drop('perimetro',axis=1,inplace=True)\ncomunas_df.drop('wkt',axis=1,inplace=True)\ncomunas_df.drop('objeto',axis=1,inplace=True)\ncomunas_df.drop('area',axis=1,inplace=True)\ncomunas_df.head()"
        },
        {
            "cell_type": "code",
            "execution_count": 25,
            "metadata": {},
            "outputs": [
                {
                    "data": {
                        "text/html": "<div>\n<style scoped>\n    .dataframe tbody tr th:only-of-type {\n        vertical-align: middle;\n    }\n\n    .dataframe tbody tr th {\n        vertical-align: top;\n    }\n\n    .dataframe thead th {\n        text-align: right;\n    }\n</style>\n<table border=\"1\" class=\"dataframe\">\n  <thead>\n    <tr style=\"text-align: right;\">\n      <th></th>\n      <th>barrios</th>\n      <th>comunas</th>\n      <th>IPCF</th>\n    </tr>\n  </thead>\n  <tbody>\n    <tr>\n      <th>0</th>\n      <td>RECOLETA</td>\n      <td>2</td>\n      <td>48847</td>\n    </tr>\n    <tr>\n      <th>1</th>\n      <td>ALMAGRO - BOEDO</td>\n      <td>5</td>\n      <td>33454</td>\n    </tr>\n    <tr>\n      <th>2</th>\n      <td>CABALLITO</td>\n      <td>6</td>\n      <td>39050</td>\n    </tr>\n    <tr>\n      <th>3</th>\n      <td>FLORES - PARQUE CHACABUCO</td>\n      <td>7</td>\n      <td>27210</td>\n    </tr>\n    <tr>\n      <th>4</th>\n      <td>LINIERS - MATADEROS - PARQUE AVELLANEDA</td>\n      <td>9</td>\n      <td>23131</td>\n    </tr>\n  </tbody>\n</table>\n</div>",
                        "text/plain": "                                   barrios comunas   IPCF\n0                                 RECOLETA       2  48847\n1                          ALMAGRO - BOEDO       5  33454\n2                                CABALLITO       6  39050\n3                FLORES - PARQUE CHACABUCO       7  27210\n4  LINIERS - MATADEROS - PARQUE AVELLANEDA       9  23131"
                    },
                    "execution_count": 25,
                    "metadata": {},
                    "output_type": "execute_result"
                }
            ],
            "source": "buenosaires_merged = pd.merge(comunas_df, ipcf_df, on='comunas')\nbuenosaires_merged.drop('id',axis=1,inplace=True)\nbuenosaires_merged.head()"
        },
        {
            "cell_type": "code",
            "execution_count": 26,
            "metadata": {},
            "outputs": [
                {
                    "data": {
                        "text/html": "<div>\n<style scoped>\n    .dataframe tbody tr th:only-of-type {\n        vertical-align: middle;\n    }\n\n    .dataframe tbody tr th {\n        vertical-align: top;\n    }\n\n    .dataframe thead th {\n        text-align: right;\n    }\n</style>\n<table border=\"1\" class=\"dataframe\">\n  <thead>\n    <tr style=\"text-align: right;\">\n      <th></th>\n      <th>neighboords</th>\n      <th>communes</th>\n      <th>family per capita income</th>\n    </tr>\n  </thead>\n  <tbody>\n    <tr>\n      <th>0</th>\n      <td>RECOLETA</td>\n      <td>2</td>\n      <td>48847</td>\n    </tr>\n    <tr>\n      <th>1</th>\n      <td>ALMAGRO - BOEDO</td>\n      <td>5</td>\n      <td>33454</td>\n    </tr>\n    <tr>\n      <th>2</th>\n      <td>CABALLITO</td>\n      <td>6</td>\n      <td>39050</td>\n    </tr>\n    <tr>\n      <th>3</th>\n      <td>FLORES - PARQUE CHACABUCO</td>\n      <td>7</td>\n      <td>27210</td>\n    </tr>\n    <tr>\n      <th>4</th>\n      <td>LINIERS - MATADEROS - PARQUE AVELLANEDA</td>\n      <td>9</td>\n      <td>23131</td>\n    </tr>\n  </tbody>\n</table>\n</div>",
                        "text/plain": "                               neighboords communes family per capita income\n0                                 RECOLETA        2                    48847\n1                          ALMAGRO - BOEDO        5                    33454\n2                                CABALLITO        6                    39050\n3                FLORES - PARQUE CHACABUCO        7                    27210\n4  LINIERS - MATADEROS - PARQUE AVELLANEDA        9                    23131"
                    },
                    "execution_count": 26,
                    "metadata": {},
                    "output_type": "execute_result"
                }
            ],
            "source": "buenosaires_merged.rename(columns={'barrios':'neighboords','comunas':'communes','IPCF':'family per capita income'},inplace=True)\nbuenosaires_merged.head()"
        },
        {
            "cell_type": "code",
            "execution_count": 33,
            "metadata": {},
            "outputs": [
                {
                    "name": "stdout",
                    "output_type": "stream",
                    "text": "Data loaded\n"
                }
            ],
            "source": "population_data = pd.read_excel(r'https://www.estadisticaciudad.gob.ar/eyc/wp-content/uploads/2025/05/PBP_CO_1020.xls')\nprint('Data loaded')\n\n"
        },
        {
            "cell_type": "code",
            "execution_count": 55,
            "metadata": {},
            "outputs": [],
            "source": "population_df = pd.DataFrame(population_data, columns= ['Unnamed: 10','Proyecciones de poblaci\u00f3n por comuna y sexo. Ciudad de Buenos Aires. A\u00f1os 2010/2025'])\npopulation_df.rename(columns={'Proyecciones de poblaci\u00f3n por comuna y sexo. Ciudad de Buenos Aires. A\u00f1os 2010/2025':'communes','Unnamed: 10':'2019'},inplace=True)\npopulation_df.drop({0,1,2},axis=0,inplace=True)\n"
        },
        {
            "cell_type": "code",
            "execution_count": 60,
            "metadata": {},
            "outputs": [
                {
                    "data": {
                        "text/html": "<div>\n<style scoped>\n    .dataframe tbody tr th:only-of-type {\n        vertical-align: middle;\n    }\n\n    .dataframe tbody tr th {\n        vertical-align: top;\n    }\n\n    .dataframe thead th {\n        text-align: right;\n    }\n</style>\n<table border=\"1\" class=\"dataframe\">\n  <thead>\n    <tr style=\"text-align: right;\">\n      <th></th>\n      <th>2019</th>\n      <th>communes</th>\n    </tr>\n  </thead>\n  <tbody>\n    <tr>\n      <th>3</th>\n      <td>255457.0</td>\n      <td>1</td>\n    </tr>\n    <tr>\n      <th>4</th>\n      <td>149510.0</td>\n      <td>2</td>\n    </tr>\n    <tr>\n      <th>5</th>\n      <td>193115.0</td>\n      <td>3</td>\n    </tr>\n    <tr>\n      <th>6</th>\n      <td>239712.0</td>\n      <td>4</td>\n    </tr>\n    <tr>\n      <th>7</th>\n      <td>187348.0</td>\n      <td>5</td>\n    </tr>\n    <tr>\n      <th>8</th>\n      <td>185271.0</td>\n      <td>6</td>\n    </tr>\n    <tr>\n      <th>9</th>\n      <td>241484.0</td>\n      <td>7</td>\n    </tr>\n    <tr>\n      <th>10</th>\n      <td>228266.0</td>\n      <td>8</td>\n    </tr>\n    <tr>\n      <th>11</th>\n      <td>171062.0</td>\n      <td>9</td>\n    </tr>\n    <tr>\n      <th>12</th>\n      <td>170497.0</td>\n      <td>10</td>\n    </tr>\n    <tr>\n      <th>13</th>\n      <td>190046.0</td>\n      <td>11</td>\n    </tr>\n    <tr>\n      <th>14</th>\n      <td>214518.0</td>\n      <td>12</td>\n    </tr>\n    <tr>\n      <th>15</th>\n      <td>236238.0</td>\n      <td>13</td>\n    </tr>\n    <tr>\n      <th>16</th>\n      <td>227060.0</td>\n      <td>14</td>\n    </tr>\n    <tr>\n      <th>17</th>\n      <td>182445.0</td>\n      <td>15</td>\n    </tr>\n  </tbody>\n</table>\n</div>",
                        "text/plain": "        2019 communes\n3   255457.0        1\n4   149510.0        2\n5   193115.0        3\n6   239712.0        4\n7   187348.0        5\n8   185271.0        6\n9   241484.0        7\n10  228266.0        8\n11  171062.0        9\n12  170497.0       10\n13  190046.0       11\n14  214518.0       12\n15  236238.0       13\n16  227060.0       14\n17  182445.0       15"
                    },
                    "execution_count": 60,
                    "metadata": {},
                    "output_type": "execute_result"
                }
            ],
            "source": "population_df.drop({19,20,21,22,23,24,25,26,27,28,29,30,31,32,33,34,35,36,37,38,39,40,41,42,43,44,45,46,47,48,49,50,51,52,53,54,55,56,57},axis=0,inplace=True)\npopulation_df"
        },
        {
            "cell_type": "code",
            "execution_count": 78,
            "metadata": {},
            "outputs": [
                {
                    "data": {
                        "text/html": "<div>\n<style scoped>\n    .dataframe tbody tr th:only-of-type {\n        vertical-align: middle;\n    }\n\n    .dataframe tbody tr th {\n        vertical-align: top;\n    }\n\n    .dataframe thead th {\n        text-align: right;\n    }\n</style>\n<table border=\"1\" class=\"dataframe\">\n  <thead>\n    <tr style=\"text-align: right;\">\n      <th></th>\n      <th>neighboords</th>\n      <th>communes</th>\n      <th>family per capita income</th>\n      <th>population</th>\n    </tr>\n  </thead>\n  <tbody>\n    <tr>\n      <th>0</th>\n      <td>CONSTITUCION - MONSERRAT - PUERTO MADERO -  RE...</td>\n      <td>1</td>\n      <td>35606</td>\n      <td>255457.0</td>\n    </tr>\n    <tr>\n      <th>1</th>\n      <td>RECOLETA</td>\n      <td>2</td>\n      <td>48847</td>\n      <td>149510.0</td>\n    </tr>\n    <tr>\n      <th>2</th>\n      <td>BALVANERA - SAN CRISTOBAL</td>\n      <td>3</td>\n      <td>28074</td>\n      <td>193115.0</td>\n    </tr>\n    <tr>\n      <th>3</th>\n      <td>BARRACAS - BOCA - NUEVA POMPEYA - PARQUE PATRI...</td>\n      <td>4</td>\n      <td>21631</td>\n      <td>239712.0</td>\n    </tr>\n    <tr>\n      <th>4</th>\n      <td>ALMAGRO - BOEDO</td>\n      <td>5</td>\n      <td>33454</td>\n      <td>187348.0</td>\n    </tr>\n    <tr>\n      <th>5</th>\n      <td>CABALLITO</td>\n      <td>6</td>\n      <td>39050</td>\n      <td>185271.0</td>\n    </tr>\n    <tr>\n      <th>6</th>\n      <td>FLORES - PARQUE CHACABUCO</td>\n      <td>7</td>\n      <td>27210</td>\n      <td>241484.0</td>\n    </tr>\n    <tr>\n      <th>7</th>\n      <td>VILLA LUGANO - VILLA RIACHUELO - VILLA SOLDATI</td>\n      <td>8</td>\n      <td>15187</td>\n      <td>228266.0</td>\n    </tr>\n    <tr>\n      <th>8</th>\n      <td>LINIERS - MATADEROS - PARQUE AVELLANEDA</td>\n      <td>9</td>\n      <td>23131</td>\n      <td>171062.0</td>\n    </tr>\n    <tr>\n      <th>9</th>\n      <td>FLORESTA - MONTE CASTRO - VELEZ SARSFIELD - VE...</td>\n      <td>10</td>\n      <td>27730</td>\n      <td>170497.0</td>\n    </tr>\n    <tr>\n      <th>10</th>\n      <td>VILLA DEL PARQUE - VILLA  DEVOTO - VILLA GRAL....</td>\n      <td>11</td>\n      <td>29353</td>\n      <td>190046.0</td>\n    </tr>\n    <tr>\n      <th>11</th>\n      <td>COGHLAN - SAAVEDRA - VILLA PUEYRREDON - VILLA ...</td>\n      <td>12</td>\n      <td>36619</td>\n      <td>214518.0</td>\n    </tr>\n    <tr>\n      <th>12</th>\n      <td>BELGRANO - COLEGIALES - NU\u00d1EZ</td>\n      <td>13</td>\n      <td>42423</td>\n      <td>236238.0</td>\n    </tr>\n    <tr>\n      <th>13</th>\n      <td>PALERMO</td>\n      <td>14</td>\n      <td>54481</td>\n      <td>227060.0</td>\n    </tr>\n    <tr>\n      <th>14</th>\n      <td>AGRONOMIA - CHACARITA -  PARQUE CHAS -  PATERN...</td>\n      <td>15</td>\n      <td>35033</td>\n      <td>182445.0</td>\n    </tr>\n  </tbody>\n</table>\n</div>",
                        "text/plain": "                                          neighboords communes  \\\n0   CONSTITUCION - MONSERRAT - PUERTO MADERO -  RE...        1   \n1                                            RECOLETA        2   \n2                           BALVANERA - SAN CRISTOBAL        3   \n3   BARRACAS - BOCA - NUEVA POMPEYA - PARQUE PATRI...        4   \n4                                     ALMAGRO - BOEDO        5   \n5                                           CABALLITO        6   \n6                           FLORES - PARQUE CHACABUCO        7   \n7      VILLA LUGANO - VILLA RIACHUELO - VILLA SOLDATI        8   \n8             LINIERS - MATADEROS - PARQUE AVELLANEDA        9   \n9   FLORESTA - MONTE CASTRO - VELEZ SARSFIELD - VE...       10   \n10  VILLA DEL PARQUE - VILLA  DEVOTO - VILLA GRAL....       11   \n11  COGHLAN - SAAVEDRA - VILLA PUEYRREDON - VILLA ...       12   \n12                      BELGRANO - COLEGIALES - NU\u00d1EZ       13   \n13                                            PALERMO       14   \n14  AGRONOMIA - CHACARITA -  PARQUE CHAS -  PATERN...       15   \n\n   family per capita income  population  \n0                     35606    255457.0  \n1                     48847    149510.0  \n2                     28074    193115.0  \n3                     21631    239712.0  \n4                     33454    187348.0  \n5                     39050    185271.0  \n6                     27210    241484.0  \n7                     15187    228266.0  \n8                     23131    171062.0  \n9                     27730    170497.0  \n10                    29353    190046.0  \n11                    36619    214518.0  \n12                    42423    236238.0  \n13                    54481    227060.0  \n14                    35033    182445.0  "
                    },
                    "execution_count": 78,
                    "metadata": {},
                    "output_type": "execute_result"
                }
            ],
            "source": "buenosaires_merged2 = pd.merge(buenosaires_merged, population_df, on='communes')\nbuenosaires_merged2.rename(columns={'2019':'population'},inplace=True)\nbuenosaires_merged2.sort_values(by='communes', ascending=True,inplace=True)\nbuenosaires_merged2 = buenosaires_merged2.reset_index()\nbuenosaires_merged2.drop('index',axis=1,inplace=True)\nbuenosaires_merged2"
        }
    ],
    "metadata": {
        "kernelspec": {
            "display_name": "Python 3.6",
            "language": "python",
            "name": "python3"
        },
        "language_info": {
            "codemirror_mode": {
                "name": "ipython",
                "version": 3
            },
            "file_extension": ".py",
            "mimetype": "text/x-python",
            "name": "python",
            "nbconvert_exporter": "python",
            "pygments_lexer": "ipython3",
            "version": "3.6.9"
        }
    },
    "nbformat": 4,
    "nbformat_minor": 1
}